{
 "cells": [
  {
   "cell_type": "code",
   "execution_count": 15,
   "metadata": {},
   "outputs": [],
   "source": [
    "import matplotlib.pyplot as plt\n",
    "import numpy as np\n",
    "from scipy.optimize import curve_fit\n",
    "%matplotlib qt\n",
    "\n",
    "try:\n",
    "    from tkinter import Tk\n",
    "    from tkFileDialog import askopenfilenames\n",
    "except:\n",
    "    from tkinter import Tk\n",
    "    from tkinter import filedialog"
   ]
  },
  {
   "cell_type": "code",
   "execution_count": 16,
   "metadata": {},
   "outputs": [],
   "source": [
    "def gaussian(x, N, mu, sigma):\n",
    "    return N*np.exp(-0.5*((x-mu)/sigma)**2)\n",
    "\n",
    "def doubleGaussian(x, N1, mu1, sigma1, N2, mu2, sigma2):\n",
    "    return N1*np.exp(-0.5*((x-mu1)/sigma1)**2) + N2*np.exp(-0.5*((x-mu2)/sigma2)**2) \n"
   ]
  },
  {
   "cell_type": "markdown",
   "metadata": {},
   "source": [
    "#### Calibration"
   ]
  },
  {
   "cell_type": "code",
   "execution_count": 17,
   "metadata": {},
   "outputs": [],
   "source": [
    "root = Tk()\n",
    "root.withdraw() \n",
    "root.wm_attributes('-topmost', 1) \n",
    "calib_file_name = filedialog.askopenfilenames(parent = root) "
   ]
  },
  {
   "cell_type": "code",
   "execution_count": 18,
   "metadata": {},
   "outputs": [],
   "source": [
    "\n",
    "chanel_cal, energy_cal = np.loadtxt(calib_file_name[0], unpack = 'True')\n",
    "\n",
    "#NB: Ordered from n-th order to 0-th order\n",
    "calib_coeff = np.polyfit(chanel_cal, energy_cal, deg = 1)"
   ]
  },
  {
   "cell_type": "code",
   "execution_count": 24,
   "metadata": {},
   "outputs": [],
   "source": [
    "mock_channel = np.linspace(0,2000,2000)\n",
    "cal_line = mock_channel*calib_coeff[0] + calib_coeff[1]\n",
    "\n",
    "fig = plt.figure()\n",
    "ax = fig.add_subplot()\n",
    "\n",
    "ax.set_title('Calibration Plot')\n",
    "ax.plot(mock_channel, cal_line, color = 'grey', label = 'Cal. Line')\n",
    "ax.scatter(chanel_cal, energy_cal, marker = '+', color ='red', label = 'Cal. Points')\n",
    "ax.set_xlabel('Channel')\n",
    "ax.set_ylabel('Energy [keV]')\n",
    "ax.legend()\n",
    "ax.grid()\n"
   ]
  },
  {
   "cell_type": "markdown",
   "metadata": {},
   "source": [
    "#### Data Analysis"
   ]
  },
  {
   "cell_type": "code",
   "execution_count": 25,
   "metadata": {},
   "outputs": [],
   "source": [
    "root = Tk()\n",
    "root.withdraw() \n",
    "root.wm_attributes('-topmost', 1) \n",
    "data_file_name = filedialog.askopenfilenames(parent = root) "
   ]
  },
  {
   "cell_type": "code",
   "execution_count": 27,
   "metadata": {},
   "outputs": [],
   "source": [
    "chanel, counts = np.loadtxt(data_file_name[0], unpack = True, skiprows=10, delimiter =';', usecols=(0,1))\n",
    "calib_energies =  chanel*calib_coeff[0] + calib_coeff[1]\n"
   ]
  },
  {
   "cell_type": "code",
   "execution_count": 41,
   "metadata": {},
   "outputs": [],
   "source": [
    "fig, ax = plt.subplots(1,2, figsize = (15,7))\n",
    "#ax = fig.add_subplot(nrows = 1,ncols = 2)\n",
    "\n",
    "ax[0].plot(chanel, counts, color = 'gray')\n",
    "ax[0].set_xlabel('Channel')\n",
    "ax[0].set_ylabel('Counts')\n",
    "ax[0].grid()\n",
    "\n",
    "ax[1].plot(calib_energies, counts, color = 'gray')\n",
    "ax[1].set_xlabel('Energy [keV]')\n",
    "ax[1].set_ylabel('Counts')\n",
    "ax[1].grid()"
   ]
  }
 ],
 "metadata": {
  "kernelspec": {
   "display_name": "astro",
   "language": "python",
   "name": "python3"
  },
  "language_info": {
   "codemirror_mode": {
    "name": "ipython",
    "version": 3
   },
   "file_extension": ".py",
   "mimetype": "text/x-python",
   "name": "python",
   "nbconvert_exporter": "python",
   "pygments_lexer": "ipython3",
   "version": "3.11.4"
  }
 },
 "nbformat": 4,
 "nbformat_minor": 2
}
