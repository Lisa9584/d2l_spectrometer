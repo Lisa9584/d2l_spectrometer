{
 "cells": [
  {
   "cell_type": "code",
   "execution_count": 1,
   "metadata": {},
   "outputs": [],
   "source": [
    "import matplotlib.pyplot as plt\n",
    "import numpy as np\n",
    "from scipy.optimize import curve_fit\n",
    "%matplotlib qt\n",
    "\n",
    "try:\n",
    "    from tkinter import Tk\n",
    "    from tkFileDialog import askopenfilenames\n",
    "except:\n",
    "    from tkinter import Tk\n",
    "    from tkinter import filedialog"
   ]
  },
  {
   "cell_type": "code",
   "execution_count": 2,
   "metadata": {},
   "outputs": [],
   "source": [
    "def gaussian(x, N, mu, sigma):\n",
    "    return N*np.exp(-0.5*((x-mu)/sigma)**2)\n",
    "\n",
    "def doubleGaussian(x, N1, mu1, sigma1, N2, mu2, sigma2):\n",
    "    return N1*np.exp(-0.5*((x-mu1)/sigma1)**2) + N2*np.exp(-0.5*((x-mu2)/sigma2)**2) \n"
   ]
  },
  {
   "cell_type": "markdown",
   "metadata": {},
   "source": [
    "#### Calibration"
   ]
  },
  {
   "cell_type": "code",
   "execution_count": 3,
   "metadata": {},
   "outputs": [],
   "source": [
    "root = Tk()\n",
    "root.withdraw() \n",
    "root.wm_attributes('-topmost', 1) \n",
    "calib_file_name = filedialog.askopenfilenames(parent = root) "
   ]
  },
  {
   "cell_type": "code",
   "execution_count": 4,
   "metadata": {},
   "outputs": [],
   "source": [
    "\n",
    "chanel_cal, energy_cal = np.loadtxt(calib_file_name[0], unpack = 'True')\n",
    "\n",
    "#NB: Ordered from n-th order to 0-th order\n",
    "calib_coeff = np.polyfit(chanel_cal, energy_cal, deg = 1)"
   ]
  },
  {
   "cell_type": "code",
   "execution_count": 5,
   "metadata": {},
   "outputs": [],
   "source": [
    "mock_channel = np.linspace(0,2000,2000)\n",
    "cal_line = mock_channel*calib_coeff[0] + calib_coeff[1]\n",
    "\n",
    "fig = plt.figure()\n",
    "ax = fig.add_subplot()\n",
    "\n",
    "ax.set_title('Calibration Plot')\n",
    "ax.plot(mock_channel, cal_line, color = 'grey', label = 'Cal. Line')\n",
    "ax.scatter(chanel_cal, energy_cal, marker = '+', color ='red', label = 'Cal. Points')\n",
    "ax.set_xlabel('Channel')\n",
    "ax.set_ylabel('Energy [keV]')\n",
    "ax.legend()\n",
    "ax.grid()\n"
   ]
  },
  {
   "cell_type": "markdown",
   "metadata": {},
   "source": [
    "#### Data Analysis"
   ]
  },
  {
   "cell_type": "code",
   "execution_count": 13,
   "metadata": {},
   "outputs": [],
   "source": [
    "root = Tk()\n",
    "root.withdraw() \n",
    "root.wm_attributes('-topmost', 1) \n",
    "data_file_name = filedialog.askopenfilenames(parent = root) "
   ]
  },
  {
   "cell_type": "code",
   "execution_count": 14,
   "metadata": {},
   "outputs": [],
   "source": [
    "chanel, counts = np.loadtxt(data_file_name[0], unpack = True, skiprows=10, delimiter =';', usecols=(0,1))\n",
    "calib_energies =  chanel*calib_coeff[0] + calib_coeff[1]\n"
   ]
  },
  {
   "cell_type": "code",
   "execution_count": 15,
   "metadata": {},
   "outputs": [],
   "source": [
    "fig, ax = plt.subplots(1,2, figsize = (15,7))\n",
    "#ax = fig.add_subplot(nrows = 1,ncols = 2)\n",
    "plt.suptitle(data_file_name[0])\n",
    "\n",
    "ax[0].step(chanel, counts, color = 'gray')\n",
    "ax[0].set_xlabel('Channel')\n",
    "ax[0].set_ylabel('Counts')\n",
    "ax[0].grid()\n",
    "\n",
    "ax[1].step(calib_energies, counts, color = 'gray')\n",
    "ax[1].set_xlabel('Energy [keV]')\n",
    "ax[1].set_ylabel('Counts')\n",
    "ax[1].grid()"
   ]
  },
  {
   "cell_type": "code",
   "execution_count": 28,
   "metadata": {},
   "outputs": [
    {
     "name": "stdout",
     "output_type": "stream",
     "text": [
      "Data File:  C:/Users/lisaf/Desktop/due2lab/calib_cesium_137\n",
      "Calibration:  C:/Users/lisaf/Desktop/GitHub/d2l_spectrometer/calib.txt\n",
      "\n",
      "\n",
      "Fitting energy range: 600 - 700 keV\n",
      "Fitting model: double gaussian\n",
      "\n",
      "\n",
      "FIT PARAMETERS:\n",
      "N1:     58.74 ± 2.37 counts\n",
      "Mu1:    642.29 ± 1.54 keV\n",
      "Sigma1: 17.05 ± 0.95 keV\n",
      "N2:     130.40 ± 5.69 counts\n",
      "Mu2:    661.27 ± 0.16 keV\n",
      "Sigma2: 6.58 ± 0.27 keV\n"
     ]
    }
   ],
   "source": [
    "min_energy = 600\n",
    "max_energy = 700\n",
    "\n",
    "mask = np.logical_and(calib_energies >= min_energy, calib_energies <= max_energy)\n",
    "energies_to_fit = calib_energies[mask]\n",
    "counts_to_fit = counts[mask]\n",
    "\n",
    "fig, ax = plt.subplots(1,1, figsize = (9,7))\n",
    "ax.step(energies_to_fit, counts_to_fit, color = 'black', label = 'Data')\n",
    "ax.set_xlabel('Energy [keV]')\n",
    "ax.set_ylabel('Counts')\n",
    "ax.grid()\n",
    "\n",
    "#def doubleGaussian(x, N1, mu1, sigma1, N2, mu2, sigma2):\n",
    "p0 = [np.max(counts_to_fit), np.min(energies_to_fit), 1, \n",
    "      np.max(counts_to_fit), np.min(energies_to_fit), 1]\n",
    "bounds = [(0,min(energies_to_fit),0,0,min(energies_to_fit),0),\n",
    "          (np.inf, max(energies_to_fit),np.inf, np.inf, max(energies_to_fit), np.inf)]\n",
    "\n",
    "par, cov = curve_fit(doubleGaussian, xdata = energies_to_fit, ydata = counts_to_fit, p0 = p0, bounds = bounds)\n",
    "errs = np.sqrt(np.diag(cov))\n",
    "\n",
    "x_fit = np.linspace(np.min(energies_to_fit), np.max(energies_to_fit),1000)\n",
    "y_fit = doubleGaussian(x_fit, *par)\n",
    "\n",
    "ax.plot(x_fit, y_fit, color = 'red', label = 'Fit')\n",
    "ax.legend()\n",
    "\n",
    "print('Data File: ', data_file_name[0])\n",
    "print('Calibration: ', calib_file_name[0])\n",
    "print('\\n')\n",
    "print('Fitting energy range: {0} - {1} keV'.format(min_energy, max_energy))\n",
    "print('Fitting model: double gaussian')\n",
    "print('\\n')\n",
    "print('FIT PARAMETERS:')\n",
    "print('N1:     {0:.2f} ± {1:.2f} counts'.format(par[0],errs[0]))\n",
    "print('Mu1:    {0:.2f} ± {1:.2f} keV'.format(par[1],errs[1]))\n",
    "print('Sigma1: {0:.2f} ± {1:.2f} keV'.format(par[2],errs[2]))\n",
    "print('N2:     {0:.2f} ± {1:.2f} counts'.format(par[3],errs[3]))\n",
    "print('Mu2:    {0:.2f} ± {1:.2f} keV'.format(par[4],errs[4]))\n",
    "print('Sigma2: {0:.2f} ± {1:.2f} keV'.format(par[5],errs[5]))"
   ]
  },
  {
   "cell_type": "code",
   "execution_count": null,
   "metadata": {},
   "outputs": [],
   "source": []
  }
 ],
 "metadata": {
  "kernelspec": {
   "display_name": "astro",
   "language": "python",
   "name": "python3"
  },
  "language_info": {
   "codemirror_mode": {
    "name": "ipython",
    "version": 3
   },
   "file_extension": ".py",
   "mimetype": "text/x-python",
   "name": "python",
   "nbconvert_exporter": "python",
   "pygments_lexer": "ipython3",
   "version": "3.11.4"
  }
 },
 "nbformat": 4,
 "nbformat_minor": 2
}
